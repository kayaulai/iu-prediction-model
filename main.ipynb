{
 "cells": [
  {
   "cell_type": "code",
   "execution_count": 1,
   "metadata": {},
   "outputs": [],
   "source": [
    "import os\n",
    "import random\n",
    "import numpy as np\n",
    "import pandas as pd\n",
    "from tqdm import tqdm\n",
    "from typing import Dict, List, Optional\n",
    "\n",
    "import matplotlib.pyplot as plt\n",
    "import seaborn as sns\n",
    "\n",
    "import torch\n",
    "import torch.nn as nn\n",
    "import torch.nn.functional as F\n",
    "import torch.optim as optim\n",
    "\n",
    "# set the random seed for reproduction\n",
    "SEED=190\n",
    "random.seed(SEED)\n",
    "np.random.seed(SEED)\n",
    "torch.manual_seed(SEED)\n",
    "\n",
    "#checking if GPU is available or not\n",
    "device = torch.device('cuda') if torch.cuda.is_available() else torch.device('cpu')"
   ]
  },
  {
   "cell_type": "markdown",
   "metadata": {},
   "source": [
    "## 1. Split into Train and Validation Dataset"
   ]
  },
  {
   "cell_type": "code",
   "execution_count": 2,
   "metadata": {},
   "outputs": [],
   "source": [
    "def get_category(df):\n",
    "    data_category = {}\n",
    "    for col in df.columns:\n",
    "        if df.dtypes[[col]][0] == object:\n",
    "            data_category[col] = {}\n",
    "            for (i, cat) in enumerate(df[[col]].drop_duplicates().values.flatten().tolist()):\n",
    "                data_category[col][cat] = i\n",
    "    \n",
    "    return data_category\n"
   ]
  },
  {
   "cell_type": "code",
   "execution_count": 6,
   "metadata": {},
   "outputs": [
    {
     "name": "stderr",
     "output_type": "stream",
     "text": [
      "C:\\Users\\tianr\\AppData\\Local\\Temp\\ipykernel_21248\\753069530.py:4: FutureWarning: Series.__getitem__ treating keys as positions is deprecated. In a future version, integer keys will always be treated as labels (consistent with DataFrame behavior). To access a value by position, use `ser.iloc[pos]`\n",
      "  if df.dtypes[[col]][0] == object:\n",
      "C:\\Users\\tianr\\AppData\\Local\\Temp\\ipykernel_21248\\753069530.py:4: FutureWarning: Series.__getitem__ treating keys as positions is deprecated. In a future version, integer keys will always be treated as labels (consistent with DataFrame behavior). To access a value by position, use `ser.iloc[pos]`\n",
      "  if df.dtypes[[col]][0] == object:\n",
      "C:\\Users\\tianr\\AppData\\Local\\Temp\\ipykernel_21248\\753069530.py:4: FutureWarning: Series.__getitem__ treating keys as positions is deprecated. In a future version, integer keys will always be treated as labels (consistent with DataFrame behavior). To access a value by position, use `ser.iloc[pos]`\n",
      "  if df.dtypes[[col]][0] == object:\n",
      "C:\\Users\\tianr\\AppData\\Local\\Temp\\ipykernel_21248\\753069530.py:4: FutureWarning: Series.__getitem__ treating keys as positions is deprecated. In a future version, integer keys will always be treated as labels (consistent with DataFrame behavior). To access a value by position, use `ser.iloc[pos]`\n",
      "  if df.dtypes[[col]][0] == object:\n",
      "C:\\Users\\tianr\\AppData\\Local\\Temp\\ipykernel_21248\\753069530.py:4: FutureWarning: Series.__getitem__ treating keys as positions is deprecated. In a future version, integer keys will always be treated as labels (consistent with DataFrame behavior). To access a value by position, use `ser.iloc[pos]`\n",
      "  if df.dtypes[[col]][0] == object:\n",
      "C:\\Users\\tianr\\AppData\\Local\\Temp\\ipykernel_21248\\753069530.py:4: FutureWarning: Series.__getitem__ treating keys as positions is deprecated. In a future version, integer keys will always be treated as labels (consistent with DataFrame behavior). To access a value by position, use `ser.iloc[pos]`\n",
      "  if df.dtypes[[col]][0] == object:\n",
      "C:\\Users\\tianr\\AppData\\Local\\Temp\\ipykernel_21248\\753069530.py:4: FutureWarning: Series.__getitem__ treating keys as positions is deprecated. In a future version, integer keys will always be treated as labels (consistent with DataFrame behavior). To access a value by position, use `ser.iloc[pos]`\n",
      "  if df.dtypes[[col]][0] == object:\n",
      "C:\\Users\\tianr\\AppData\\Local\\Temp\\ipykernel_21248\\753069530.py:4: FutureWarning: Series.__getitem__ treating keys as positions is deprecated. In a future version, integer keys will always be treated as labels (consistent with DataFrame behavior). To access a value by position, use `ser.iloc[pos]`\n",
      "  if df.dtypes[[col]][0] == object:\n",
      "C:\\Users\\tianr\\AppData\\Local\\Temp\\ipykernel_21248\\753069530.py:4: FutureWarning: Series.__getitem__ treating keys as positions is deprecated. In a future version, integer keys will always be treated as labels (consistent with DataFrame behavior). To access a value by position, use `ser.iloc[pos]`\n",
      "  if df.dtypes[[col]][0] == object:\n",
      "C:\\Users\\tianr\\AppData\\Local\\Temp\\ipykernel_21248\\753069530.py:4: FutureWarning: Series.__getitem__ treating keys as positions is deprecated. In a future version, integer keys will always be treated as labels (consistent with DataFrame behavior). To access a value by position, use `ser.iloc[pos]`\n",
      "  if df.dtypes[[col]][0] == object:\n",
      "C:\\Users\\tianr\\AppData\\Local\\Temp\\ipykernel_21248\\753069530.py:4: FutureWarning: Series.__getitem__ treating keys as positions is deprecated. In a future version, integer keys will always be treated as labels (consistent with DataFrame behavior). To access a value by position, use `ser.iloc[pos]`\n",
      "  if df.dtypes[[col]][0] == object:\n",
      "C:\\Users\\tianr\\AppData\\Local\\Temp\\ipykernel_21248\\753069530.py:4: FutureWarning: Series.__getitem__ treating keys as positions is deprecated. In a future version, integer keys will always be treated as labels (consistent with DataFrame behavior). To access a value by position, use `ser.iloc[pos]`\n",
      "  if df.dtypes[[col]][0] == object:\n",
      "C:\\Users\\tianr\\AppData\\Local\\Temp\\ipykernel_21248\\753069530.py:4: FutureWarning: Series.__getitem__ treating keys as positions is deprecated. In a future version, integer keys will always be treated as labels (consistent with DataFrame behavior). To access a value by position, use `ser.iloc[pos]`\n",
      "  if df.dtypes[[col]][0] == object:\n",
      "C:\\Users\\tianr\\AppData\\Local\\Temp\\ipykernel_21248\\753069530.py:4: FutureWarning: Series.__getitem__ treating keys as positions is deprecated. In a future version, integer keys will always be treated as labels (consistent with DataFrame behavior). To access a value by position, use `ser.iloc[pos]`\n",
      "  if df.dtypes[[col]][0] == object:\n",
      "C:\\Users\\tianr\\AppData\\Local\\Temp\\ipykernel_21248\\753069530.py:4: FutureWarning: Series.__getitem__ treating keys as positions is deprecated. In a future version, integer keys will always be treated as labels (consistent with DataFrame behavior). To access a value by position, use `ser.iloc[pos]`\n",
      "  if df.dtypes[[col]][0] == object:\n",
      "C:\\Users\\tianr\\AppData\\Local\\Temp\\ipykernel_21248\\753069530.py:4: FutureWarning: Series.__getitem__ treating keys as positions is deprecated. In a future version, integer keys will always be treated as labels (consistent with DataFrame behavior). To access a value by position, use `ser.iloc[pos]`\n",
      "  if df.dtypes[[col]][0] == object:\n",
      "C:\\Users\\tianr\\AppData\\Local\\Temp\\ipykernel_21248\\753069530.py:4: FutureWarning: Series.__getitem__ treating keys as positions is deprecated. In a future version, integer keys will always be treated as labels (consistent with DataFrame behavior). To access a value by position, use `ser.iloc[pos]`\n",
      "  if df.dtypes[[col]][0] == object:\n",
      "C:\\Users\\tianr\\AppData\\Local\\Temp\\ipykernel_21248\\753069530.py:4: FutureWarning: Series.__getitem__ treating keys as positions is deprecated. In a future version, integer keys will always be treated as labels (consistent with DataFrame behavior). To access a value by position, use `ser.iloc[pos]`\n",
      "  if df.dtypes[[col]][0] == object:\n",
      "C:\\Users\\tianr\\AppData\\Local\\Temp\\ipykernel_21248\\753069530.py:4: FutureWarning: Series.__getitem__ treating keys as positions is deprecated. In a future version, integer keys will always be treated as labels (consistent with DataFrame behavior). To access a value by position, use `ser.iloc[pos]`\n",
      "  if df.dtypes[[col]][0] == object:\n",
      "C:\\Users\\tianr\\AppData\\Local\\Temp\\ipykernel_21248\\753069530.py:4: FutureWarning: Series.__getitem__ treating keys as positions is deprecated. In a future version, integer keys will always be treated as labels (consistent with DataFrame behavior). To access a value by position, use `ser.iloc[pos]`\n",
      "  if df.dtypes[[col]][0] == object:\n",
      "C:\\Users\\tianr\\AppData\\Local\\Temp\\ipykernel_21248\\753069530.py:4: FutureWarning: Series.__getitem__ treating keys as positions is deprecated. In a future version, integer keys will always be treated as labels (consistent with DataFrame behavior). To access a value by position, use `ser.iloc[pos]`\n",
      "  if df.dtypes[[col]][0] == object:\n",
      "C:\\Users\\tianr\\AppData\\Local\\Temp\\ipykernel_21248\\753069530.py:4: FutureWarning: Series.__getitem__ treating keys as positions is deprecated. In a future version, integer keys will always be treated as labels (consistent with DataFrame behavior). To access a value by position, use `ser.iloc[pos]`\n",
      "  if df.dtypes[[col]][0] == object:\n",
      "C:\\Users\\tianr\\AppData\\Local\\Temp\\ipykernel_21248\\753069530.py:4: FutureWarning: Series.__getitem__ treating keys as positions is deprecated. In a future version, integer keys will always be treated as labels (consistent with DataFrame behavior). To access a value by position, use `ser.iloc[pos]`\n",
      "  if df.dtypes[[col]][0] == object:\n",
      "C:\\Users\\tianr\\AppData\\Local\\Temp\\ipykernel_21248\\753069530.py:4: FutureWarning: Series.__getitem__ treating keys as positions is deprecated. In a future version, integer keys will always be treated as labels (consistent with DataFrame behavior). To access a value by position, use `ser.iloc[pos]`\n",
      "  if df.dtypes[[col]][0] == object:\n",
      "C:\\Users\\tianr\\AppData\\Local\\Temp\\ipykernel_21248\\753069530.py:4: FutureWarning: Series.__getitem__ treating keys as positions is deprecated. In a future version, integer keys will always be treated as labels (consistent with DataFrame behavior). To access a value by position, use `ser.iloc[pos]`\n",
      "  if df.dtypes[[col]][0] == object:\n",
      "C:\\Users\\tianr\\AppData\\Local\\Temp\\ipykernel_21248\\753069530.py:4: FutureWarning: Series.__getitem__ treating keys as positions is deprecated. In a future version, integer keys will always be treated as labels (consistent with DataFrame behavior). To access a value by position, use `ser.iloc[pos]`\n",
      "  if df.dtypes[[col]][0] == object:\n",
      "C:\\Users\\tianr\\AppData\\Local\\Temp\\ipykernel_21248\\753069530.py:4: FutureWarning: Series.__getitem__ treating keys as positions is deprecated. In a future version, integer keys will always be treated as labels (consistent with DataFrame behavior). To access a value by position, use `ser.iloc[pos]`\n",
      "  if df.dtypes[[col]][0] == object:\n",
      "C:\\Users\\tianr\\AppData\\Local\\Temp\\ipykernel_21248\\753069530.py:4: FutureWarning: Series.__getitem__ treating keys as positions is deprecated. In a future version, integer keys will always be treated as labels (consistent with DataFrame behavior). To access a value by position, use `ser.iloc[pos]`\n",
      "  if df.dtypes[[col]][0] == object:\n",
      "C:\\Users\\tianr\\AppData\\Local\\Temp\\ipykernel_21248\\753069530.py:4: FutureWarning: Series.__getitem__ treating keys as positions is deprecated. In a future version, integer keys will always be treated as labels (consistent with DataFrame behavior). To access a value by position, use `ser.iloc[pos]`\n",
      "  if df.dtypes[[col]][0] == object:\n",
      "C:\\Users\\tianr\\AppData\\Local\\Temp\\ipykernel_21248\\753069530.py:4: FutureWarning: Series.__getitem__ treating keys as positions is deprecated. In a future version, integer keys will always be treated as labels (consistent with DataFrame behavior). To access a value by position, use `ser.iloc[pos]`\n",
      "  if df.dtypes[[col]][0] == object:\n",
      "C:\\Users\\tianr\\AppData\\Local\\Temp\\ipykernel_21248\\753069530.py:4: FutureWarning: Series.__getitem__ treating keys as positions is deprecated. In a future version, integer keys will always be treated as labels (consistent with DataFrame behavior). To access a value by position, use `ser.iloc[pos]`\n",
      "  if df.dtypes[[col]][0] == object:\n",
      "C:\\Users\\tianr\\AppData\\Local\\Temp\\ipykernel_21248\\753069530.py:4: FutureWarning: Series.__getitem__ treating keys as positions is deprecated. In a future version, integer keys will always be treated as labels (consistent with DataFrame behavior). To access a value by position, use `ser.iloc[pos]`\n",
      "  if df.dtypes[[col]][0] == object:\n",
      "C:\\Users\\tianr\\AppData\\Local\\Temp\\ipykernel_21248\\753069530.py:4: FutureWarning: Series.__getitem__ treating keys as positions is deprecated. In a future version, integer keys will always be treated as labels (consistent with DataFrame behavior). To access a value by position, use `ser.iloc[pos]`\n",
      "  if df.dtypes[[col]][0] == object:\n",
      "C:\\Users\\tianr\\AppData\\Local\\Temp\\ipykernel_21248\\753069530.py:4: FutureWarning: Series.__getitem__ treating keys as positions is deprecated. In a future version, integer keys will always be treated as labels (consistent with DataFrame behavior). To access a value by position, use `ser.iloc[pos]`\n",
      "  if df.dtypes[[col]][0] == object:\n",
      "C:\\Users\\tianr\\AppData\\Local\\Temp\\ipykernel_21248\\753069530.py:4: FutureWarning: Series.__getitem__ treating keys as positions is deprecated. In a future version, integer keys will always be treated as labels (consistent with DataFrame behavior). To access a value by position, use `ser.iloc[pos]`\n",
      "  if df.dtypes[[col]][0] == object:\n",
      "C:\\Users\\tianr\\AppData\\Local\\Temp\\ipykernel_21248\\753069530.py:4: FutureWarning: Series.__getitem__ treating keys as positions is deprecated. In a future version, integer keys will always be treated as labels (consistent with DataFrame behavior). To access a value by position, use `ser.iloc[pos]`\n",
      "  if df.dtypes[[col]][0] == object:\n",
      "C:\\Users\\tianr\\AppData\\Local\\Temp\\ipykernel_21248\\753069530.py:4: FutureWarning: Series.__getitem__ treating keys as positions is deprecated. In a future version, integer keys will always be treated as labels (consistent with DataFrame behavior). To access a value by position, use `ser.iloc[pos]`\n",
      "  if df.dtypes[[col]][0] == object:\n",
      "C:\\Users\\tianr\\AppData\\Local\\Temp\\ipykernel_21248\\753069530.py:4: FutureWarning: Series.__getitem__ treating keys as positions is deprecated. In a future version, integer keys will always be treated as labels (consistent with DataFrame behavior). To access a value by position, use `ser.iloc[pos]`\n",
      "  if df.dtypes[[col]][0] == object:\n",
      "C:\\Users\\tianr\\AppData\\Local\\Temp\\ipykernel_21248\\753069530.py:4: FutureWarning: Series.__getitem__ treating keys as positions is deprecated. In a future version, integer keys will always be treated as labels (consistent with DataFrame behavior). To access a value by position, use `ser.iloc[pos]`\n",
      "  if df.dtypes[[col]][0] == object:\n",
      "C:\\Users\\tianr\\AppData\\Local\\Temp\\ipykernel_21248\\753069530.py:4: FutureWarning: Series.__getitem__ treating keys as positions is deprecated. In a future version, integer keys will always be treated as labels (consistent with DataFrame behavior). To access a value by position, use `ser.iloc[pos]`\n",
      "  if df.dtypes[[col]][0] == object:\n",
      "C:\\Users\\tianr\\AppData\\Local\\Temp\\ipykernel_21248\\753069530.py:4: FutureWarning: Series.__getitem__ treating keys as positions is deprecated. In a future version, integer keys will always be treated as labels (consistent with DataFrame behavior). To access a value by position, use `ser.iloc[pos]`\n",
      "  if df.dtypes[[col]][0] == object:\n",
      "C:\\Users\\tianr\\AppData\\Local\\Temp\\ipykernel_21248\\753069530.py:4: FutureWarning: Series.__getitem__ treating keys as positions is deprecated. In a future version, integer keys will always be treated as labels (consistent with DataFrame behavior). To access a value by position, use `ser.iloc[pos]`\n",
      "  if df.dtypes[[col]][0] == object:\n",
      "C:\\Users\\tianr\\AppData\\Local\\Temp\\ipykernel_21248\\753069530.py:4: FutureWarning: Series.__getitem__ treating keys as positions is deprecated. In a future version, integer keys will always be treated as labels (consistent with DataFrame behavior). To access a value by position, use `ser.iloc[pos]`\n",
      "  if df.dtypes[[col]][0] == object:\n",
      "C:\\Users\\tianr\\AppData\\Local\\Temp\\ipykernel_21248\\753069530.py:4: FutureWarning: Series.__getitem__ treating keys as positions is deprecated. In a future version, integer keys will always be treated as labels (consistent with DataFrame behavior). To access a value by position, use `ser.iloc[pos]`\n",
      "  if df.dtypes[[col]][0] == object:\n",
      "C:\\Users\\tianr\\AppData\\Local\\Temp\\ipykernel_21248\\753069530.py:4: FutureWarning: Series.__getitem__ treating keys as positions is deprecated. In a future version, integer keys will always be treated as labels (consistent with DataFrame behavior). To access a value by position, use `ser.iloc[pos]`\n",
      "  if df.dtypes[[col]][0] == object:\n",
      "C:\\Users\\tianr\\AppData\\Local\\Temp\\ipykernel_21248\\753069530.py:4: FutureWarning: Series.__getitem__ treating keys as positions is deprecated. In a future version, integer keys will always be treated as labels (consistent with DataFrame behavior). To access a value by position, use `ser.iloc[pos]`\n",
      "  if df.dtypes[[col]][0] == object:\n",
      "C:\\Users\\tianr\\AppData\\Local\\Temp\\ipykernel_21248\\753069530.py:4: FutureWarning: Series.__getitem__ treating keys as positions is deprecated. In a future version, integer keys will always be treated as labels (consistent with DataFrame behavior). To access a value by position, use `ser.iloc[pos]`\n",
      "  if df.dtypes[[col]][0] == object:\n",
      "C:\\Users\\tianr\\AppData\\Local\\Temp\\ipykernel_21248\\753069530.py:4: FutureWarning: Series.__getitem__ treating keys as positions is deprecated. In a future version, integer keys will always be treated as labels (consistent with DataFrame behavior). To access a value by position, use `ser.iloc[pos]`\n",
      "  if df.dtypes[[col]][0] == object:\n",
      "C:\\Users\\tianr\\AppData\\Local\\Temp\\ipykernel_21248\\753069530.py:4: FutureWarning: Series.__getitem__ treating keys as positions is deprecated. In a future version, integer keys will always be treated as labels (consistent with DataFrame behavior). To access a value by position, use `ser.iloc[pos]`\n",
      "  if df.dtypes[[col]][0] == object:\n",
      "C:\\Users\\tianr\\AppData\\Local\\Temp\\ipykernel_21248\\753069530.py:4: FutureWarning: Series.__getitem__ treating keys as positions is deprecated. In a future version, integer keys will always be treated as labels (consistent with DataFrame behavior). To access a value by position, use `ser.iloc[pos]`\n",
      "  if df.dtypes[[col]][0] == object:\n",
      "C:\\Users\\tianr\\AppData\\Local\\Temp\\ipykernel_21248\\753069530.py:4: FutureWarning: Series.__getitem__ treating keys as positions is deprecated. In a future version, integer keys will always be treated as labels (consistent with DataFrame behavior). To access a value by position, use `ser.iloc[pos]`\n",
      "  if df.dtypes[[col]][0] == object:\n",
      "C:\\Users\\tianr\\AppData\\Local\\Temp\\ipykernel_21248\\753069530.py:4: FutureWarning: Series.__getitem__ treating keys as positions is deprecated. In a future version, integer keys will always be treated as labels (consistent with DataFrame behavior). To access a value by position, use `ser.iloc[pos]`\n",
      "  if df.dtypes[[col]][0] == object:\n",
      "C:\\Users\\tianr\\AppData\\Local\\Temp\\ipykernel_21248\\753069530.py:4: FutureWarning: Series.__getitem__ treating keys as positions is deprecated. In a future version, integer keys will always be treated as labels (consistent with DataFrame behavior). To access a value by position, use `ser.iloc[pos]`\n",
      "  if df.dtypes[[col]][0] == object:\n",
      "C:\\Users\\tianr\\AppData\\Local\\Temp\\ipykernel_21248\\753069530.py:4: FutureWarning: Series.__getitem__ treating keys as positions is deprecated. In a future version, integer keys will always be treated as labels (consistent with DataFrame behavior). To access a value by position, use `ser.iloc[pos]`\n",
      "  if df.dtypes[[col]][0] == object:\n",
      "C:\\Users\\tianr\\AppData\\Local\\Temp\\ipykernel_21248\\753069530.py:4: FutureWarning: Series.__getitem__ treating keys as positions is deprecated. In a future version, integer keys will always be treated as labels (consistent with DataFrame behavior). To access a value by position, use `ser.iloc[pos]`\n",
      "  if df.dtypes[[col]][0] == object:\n",
      "C:\\Users\\tianr\\AppData\\Local\\Temp\\ipykernel_21248\\753069530.py:4: FutureWarning: Series.__getitem__ treating keys as positions is deprecated. In a future version, integer keys will always be treated as labels (consistent with DataFrame behavior). To access a value by position, use `ser.iloc[pos]`\n",
      "  if df.dtypes[[col]][0] == object:\n",
      "C:\\Users\\tianr\\AppData\\Local\\Temp\\ipykernel_21248\\753069530.py:4: FutureWarning: Series.__getitem__ treating keys as positions is deprecated. In a future version, integer keys will always be treated as labels (consistent with DataFrame behavior). To access a value by position, use `ser.iloc[pos]`\n",
      "  if df.dtypes[[col]][0] == object:\n",
      "C:\\Users\\tianr\\AppData\\Local\\Temp\\ipykernel_21248\\753069530.py:4: FutureWarning: Series.__getitem__ treating keys as positions is deprecated. In a future version, integer keys will always be treated as labels (consistent with DataFrame behavior). To access a value by position, use `ser.iloc[pos]`\n",
      "  if df.dtypes[[col]][0] == object:\n",
      "C:\\Users\\tianr\\AppData\\Local\\Temp\\ipykernel_21248\\753069530.py:4: FutureWarning: Series.__getitem__ treating keys as positions is deprecated. In a future version, integer keys will always be treated as labels (consistent with DataFrame behavior). To access a value by position, use `ser.iloc[pos]`\n",
      "  if df.dtypes[[col]][0] == object:\n",
      "C:\\Users\\tianr\\AppData\\Local\\Temp\\ipykernel_21248\\753069530.py:4: FutureWarning: Series.__getitem__ treating keys as positions is deprecated. In a future version, integer keys will always be treated as labels (consistent with DataFrame behavior). To access a value by position, use `ser.iloc[pos]`\n",
      "  if df.dtypes[[col]][0] == object:\n",
      "C:\\Users\\tianr\\AppData\\Local\\Temp\\ipykernel_21248\\753069530.py:4: FutureWarning: Series.__getitem__ treating keys as positions is deprecated. In a future version, integer keys will always be treated as labels (consistent with DataFrame behavior). To access a value by position, use `ser.iloc[pos]`\n",
      "  if df.dtypes[[col]][0] == object:\n",
      "C:\\Users\\tianr\\AppData\\Local\\Temp\\ipykernel_21248\\753069530.py:4: FutureWarning: Series.__getitem__ treating keys as positions is deprecated. In a future version, integer keys will always be treated as labels (consistent with DataFrame behavior). To access a value by position, use `ser.iloc[pos]`\n",
      "  if df.dtypes[[col]][0] == object:\n",
      "C:\\Users\\tianr\\AppData\\Local\\Temp\\ipykernel_21248\\753069530.py:4: FutureWarning: Series.__getitem__ treating keys as positions is deprecated. In a future version, integer keys will always be treated as labels (consistent with DataFrame behavior). To access a value by position, use `ser.iloc[pos]`\n",
      "  if df.dtypes[[col]][0] == object:\n",
      "C:\\Users\\tianr\\AppData\\Local\\Temp\\ipykernel_21248\\753069530.py:4: FutureWarning: Series.__getitem__ treating keys as positions is deprecated. In a future version, integer keys will always be treated as labels (consistent with DataFrame behavior). To access a value by position, use `ser.iloc[pos]`\n",
      "  if df.dtypes[[col]][0] == object:\n",
      "C:\\Users\\tianr\\AppData\\Local\\Temp\\ipykernel_21248\\753069530.py:4: FutureWarning: Series.__getitem__ treating keys as positions is deprecated. In a future version, integer keys will always be treated as labels (consistent with DataFrame behavior). To access a value by position, use `ser.iloc[pos]`\n",
      "  if df.dtypes[[col]][0] == object:\n",
      "C:\\Users\\tianr\\AppData\\Local\\Temp\\ipykernel_21248\\753069530.py:4: FutureWarning: Series.__getitem__ treating keys as positions is deprecated. In a future version, integer keys will always be treated as labels (consistent with DataFrame behavior). To access a value by position, use `ser.iloc[pos]`\n",
      "  if df.dtypes[[col]][0] == object:\n",
      "C:\\Users\\tianr\\AppData\\Local\\Temp\\ipykernel_21248\\753069530.py:4: FutureWarning: Series.__getitem__ treating keys as positions is deprecated. In a future version, integer keys will always be treated as labels (consistent with DataFrame behavior). To access a value by position, use `ser.iloc[pos]`\n",
      "  if df.dtypes[[col]][0] == object:\n",
      "C:\\Users\\tianr\\AppData\\Local\\Temp\\ipykernel_21248\\753069530.py:4: FutureWarning: Series.__getitem__ treating keys as positions is deprecated. In a future version, integer keys will always be treated as labels (consistent with DataFrame behavior). To access a value by position, use `ser.iloc[pos]`\n",
      "  if df.dtypes[[col]][0] == object:\n",
      "C:\\Users\\tianr\\AppData\\Local\\Temp\\ipykernel_21248\\753069530.py:4: FutureWarning: Series.__getitem__ treating keys as positions is deprecated. In a future version, integer keys will always be treated as labels (consistent with DataFrame behavior). To access a value by position, use `ser.iloc[pos]`\n",
      "  if df.dtypes[[col]][0] == object:\n",
      "C:\\Users\\tianr\\AppData\\Local\\Temp\\ipykernel_21248\\753069530.py:4: FutureWarning: Series.__getitem__ treating keys as positions is deprecated. In a future version, integer keys will always be treated as labels (consistent with DataFrame behavior). To access a value by position, use `ser.iloc[pos]`\n",
      "  if df.dtypes[[col]][0] == object:\n",
      "C:\\Users\\tianr\\AppData\\Local\\Temp\\ipykernel_21248\\753069530.py:4: FutureWarning: Series.__getitem__ treating keys as positions is deprecated. In a future version, integer keys will always be treated as labels (consistent with DataFrame behavior). To access a value by position, use `ser.iloc[pos]`\n",
      "  if df.dtypes[[col]][0] == object:\n",
      "C:\\Users\\tianr\\AppData\\Local\\Temp\\ipykernel_21248\\753069530.py:4: FutureWarning: Series.__getitem__ treating keys as positions is deprecated. In a future version, integer keys will always be treated as labels (consistent with DataFrame behavior). To access a value by position, use `ser.iloc[pos]`\n",
      "  if df.dtypes[[col]][0] == object:\n",
      "C:\\Users\\tianr\\AppData\\Local\\Temp\\ipykernel_21248\\753069530.py:4: FutureWarning: Series.__getitem__ treating keys as positions is deprecated. In a future version, integer keys will always be treated as labels (consistent with DataFrame behavior). To access a value by position, use `ser.iloc[pos]`\n",
      "  if df.dtypes[[col]][0] == object:\n",
      "C:\\Users\\tianr\\AppData\\Local\\Temp\\ipykernel_21248\\753069530.py:4: FutureWarning: Series.__getitem__ treating keys as positions is deprecated. In a future version, integer keys will always be treated as labels (consistent with DataFrame behavior). To access a value by position, use `ser.iloc[pos]`\n",
      "  if df.dtypes[[col]][0] == object:\n",
      "C:\\Users\\tianr\\AppData\\Local\\Temp\\ipykernel_21248\\753069530.py:4: FutureWarning: Series.__getitem__ treating keys as positions is deprecated. In a future version, integer keys will always be treated as labels (consistent with DataFrame behavior). To access a value by position, use `ser.iloc[pos]`\n",
      "  if df.dtypes[[col]][0] == object:\n",
      "C:\\Users\\tianr\\AppData\\Local\\Temp\\ipykernel_21248\\753069530.py:4: FutureWarning: Series.__getitem__ treating keys as positions is deprecated. In a future version, integer keys will always be treated as labels (consistent with DataFrame behavior). To access a value by position, use `ser.iloc[pos]`\n",
      "  if df.dtypes[[col]][0] == object:\n",
      "C:\\Users\\tianr\\AppData\\Local\\Temp\\ipykernel_21248\\753069530.py:4: FutureWarning: Series.__getitem__ treating keys as positions is deprecated. In a future version, integer keys will always be treated as labels (consistent with DataFrame behavior). To access a value by position, use `ser.iloc[pos]`\n",
      "  if df.dtypes[[col]][0] == object:\n",
      "C:\\Users\\tianr\\AppData\\Local\\Temp\\ipykernel_21248\\753069530.py:4: FutureWarning: Series.__getitem__ treating keys as positions is deprecated. In a future version, integer keys will always be treated as labels (consistent with DataFrame behavior). To access a value by position, use `ser.iloc[pos]`\n",
      "  if df.dtypes[[col]][0] == object:\n",
      "C:\\Users\\tianr\\AppData\\Local\\Temp\\ipykernel_21248\\753069530.py:4: FutureWarning: Series.__getitem__ treating keys as positions is deprecated. In a future version, integer keys will always be treated as labels (consistent with DataFrame behavior). To access a value by position, use `ser.iloc[pos]`\n",
      "  if df.dtypes[[col]][0] == object:\n",
      "C:\\Users\\tianr\\AppData\\Local\\Temp\\ipykernel_21248\\753069530.py:4: FutureWarning: Series.__getitem__ treating keys as positions is deprecated. In a future version, integer keys will always be treated as labels (consistent with DataFrame behavior). To access a value by position, use `ser.iloc[pos]`\n",
      "  if df.dtypes[[col]][0] == object:\n",
      "C:\\Users\\tianr\\AppData\\Local\\Temp\\ipykernel_21248\\753069530.py:4: FutureWarning: Series.__getitem__ treating keys as positions is deprecated. In a future version, integer keys will always be treated as labels (consistent with DataFrame behavior). To access a value by position, use `ser.iloc[pos]`\n",
      "  if df.dtypes[[col]][0] == object:\n",
      "C:\\Users\\tianr\\AppData\\Local\\Temp\\ipykernel_21248\\753069530.py:4: FutureWarning: Series.__getitem__ treating keys as positions is deprecated. In a future version, integer keys will always be treated as labels (consistent with DataFrame behavior). To access a value by position, use `ser.iloc[pos]`\n",
      "  if df.dtypes[[col]][0] == object:\n",
      "C:\\Users\\tianr\\AppData\\Local\\Temp\\ipykernel_21248\\753069530.py:4: FutureWarning: Series.__getitem__ treating keys as positions is deprecated. In a future version, integer keys will always be treated as labels (consistent with DataFrame behavior). To access a value by position, use `ser.iloc[pos]`\n",
      "  if df.dtypes[[col]][0] == object:\n",
      "C:\\Users\\tianr\\AppData\\Local\\Temp\\ipykernel_21248\\753069530.py:4: FutureWarning: Series.__getitem__ treating keys as positions is deprecated. In a future version, integer keys will always be treated as labels (consistent with DataFrame behavior). To access a value by position, use `ser.iloc[pos]`\n",
      "  if df.dtypes[[col]][0] == object:\n",
      "C:\\Users\\tianr\\AppData\\Local\\Temp\\ipykernel_21248\\753069530.py:4: FutureWarning: Series.__getitem__ treating keys as positions is deprecated. In a future version, integer keys will always be treated as labels (consistent with DataFrame behavior). To access a value by position, use `ser.iloc[pos]`\n",
      "  if df.dtypes[[col]][0] == object:\n",
      "C:\\Users\\tianr\\AppData\\Local\\Temp\\ipykernel_21248\\753069530.py:4: FutureWarning: Series.__getitem__ treating keys as positions is deprecated. In a future version, integer keys will always be treated as labels (consistent with DataFrame behavior). To access a value by position, use `ser.iloc[pos]`\n",
      "  if df.dtypes[[col]][0] == object:\n",
      "C:\\Users\\tianr\\AppData\\Local\\Temp\\ipykernel_21248\\753069530.py:4: FutureWarning: Series.__getitem__ treating keys as positions is deprecated. In a future version, integer keys will always be treated as labels (consistent with DataFrame behavior). To access a value by position, use `ser.iloc[pos]`\n",
      "  if df.dtypes[[col]][0] == object:\n",
      "C:\\Users\\tianr\\AppData\\Local\\Temp\\ipykernel_21248\\753069530.py:4: FutureWarning: Series.__getitem__ treating keys as positions is deprecated. In a future version, integer keys will always be treated as labels (consistent with DataFrame behavior). To access a value by position, use `ser.iloc[pos]`\n",
      "  if df.dtypes[[col]][0] == object:\n",
      "C:\\Users\\tianr\\AppData\\Local\\Temp\\ipykernel_21248\\753069530.py:4: FutureWarning: Series.__getitem__ treating keys as positions is deprecated. In a future version, integer keys will always be treated as labels (consistent with DataFrame behavior). To access a value by position, use `ser.iloc[pos]`\n",
      "  if df.dtypes[[col]][0] == object:\n",
      "C:\\Users\\tianr\\AppData\\Local\\Temp\\ipykernel_21248\\753069530.py:4: FutureWarning: Series.__getitem__ treating keys as positions is deprecated. In a future version, integer keys will always be treated as labels (consistent with DataFrame behavior). To access a value by position, use `ser.iloc[pos]`\n",
      "  if df.dtypes[[col]][0] == object:\n",
      "C:\\Users\\tianr\\AppData\\Local\\Temp\\ipykernel_21248\\753069530.py:4: FutureWarning: Series.__getitem__ treating keys as positions is deprecated. In a future version, integer keys will always be treated as labels (consistent with DataFrame behavior). To access a value by position, use `ser.iloc[pos]`\n",
      "  if df.dtypes[[col]][0] == object:\n",
      "C:\\Users\\tianr\\AppData\\Local\\Temp\\ipykernel_21248\\753069530.py:4: FutureWarning: Series.__getitem__ treating keys as positions is deprecated. In a future version, integer keys will always be treated as labels (consistent with DataFrame behavior). To access a value by position, use `ser.iloc[pos]`\n",
      "  if df.dtypes[[col]][0] == object:\n"
     ]
    }
   ],
   "source": [
    "df = pd.read_csv('predict_df.csv', low_memory=False)\n",
    "df.dropna(subset=[\"prevEndnote\", \"prev1\", \"prev2\", \"prev3\", \"currLength\", \"init1\", \"init2\", \"init3\"])\n",
    "data_category = get_category(df)\n",
    "\n",
    "msk = np.random.rand(len(df)) > 0.2\n",
    "train_df = df[msk]\n",
    "valid_df = df[~msk]\n",
    "# train_df.to_csv('sbc_train.csv', index=False)\n",
    "# valid_df.to_csv('sbc_valid.csv', index=False)\n",
    "\n"
   ]
  },
  {
   "cell_type": "markdown",
   "metadata": {},
   "source": [
    "## 2. Dataset for Prediction"
   ]
  },
  {
   "cell_type": "code",
   "execution_count": 7,
   "metadata": {},
   "outputs": [],
   "source": [
    "from torch.utils.data.dataset import Dataset\n",
    "from sklearn.preprocessing import OneHotEncoder\n",
    "\n",
    "class SBCDataset(Dataset):\n",
    "    def __init__(self, raw_data, cat_dict: dict, predictors: List[str], response: str, inference=False):\n",
    "        self.cat_dict = cat_dict\n",
    "        self.pred_data = self.one_hot(self.encode(raw_data, cat_dict, predictors))\n",
    "        self.labels = raw_data[[response]].to_numpy(dtype=float)\n",
    "        self.inference = inference\n",
    "        self.shape = self.pred_data.shape\n",
    "\n",
    "    def encode(self, raw_data, cat_dict, predictors):\n",
    "        data = pd.DataFrame()\n",
    "        for col in predictors:\n",
    "            if \"currLength\" not in col and \":\" not in col:\n",
    "                data[[col]] = raw_data[[col]].replace(cat_dict)\n",
    "        return data\n",
    "    \n",
    "    def one_hot(self, raw_data):\n",
    "        data = np.zeros(shape=(len(raw_data), 1))\n",
    "        for col in raw_data.columns:\n",
    "            if \"currLength\" not in col and \":\" not in col:\n",
    "                data = np.append(data, \n",
    "                                pd.get_dummies(raw_data[[col]], drop_first=True, dtype=float), \n",
    "                                axis=1)\n",
    "            elif \":\" in col:\n",
    "                temp_col = col.split(\":\")\n",
    "                data = np.append(data, \n",
    "                                pd.get_dummies(raw_data[[temp_col[0]]], drop_first=True, dtype=float).to_numpy() * raw_data[[temp_col[1]]].to_numpy(), \n",
    "                                axis=1)\n",
    "            else: \n",
    "                data = np.append(data, raw_data[[col]], axis=1)\n",
    "        return data[:, 1:]\n",
    "\n",
    "    def __len__(self):\n",
    "        return len(self.pred_data)\n",
    "    \n",
    "    def __getitem__(self, idx):\n",
    "        if not self.inference:\n",
    "            label = self.labels[idx]\n",
    "            return torch.tensor(self.pred_data[idx], dtype=torch.float), torch.tensor(label, dtype=torch.float)\n",
    "        else:\n",
    "            return torch.tensor(self.pred_data[idx], dtype=torch.float)\n"
   ]
  },
  {
   "cell_type": "code",
   "execution_count": 8,
   "metadata": {},
   "outputs": [],
   "source": [
    "BATCH_SIZE = 2048\n",
    "TEST_BATCH_SIZE = 2048\n",
    "\n",
    "# create the dataset\n",
    "predictors = [\"prevEndnote\", \"prev1\", \"prev2\", \"prev3\", \"currLength\", \"init1\", \"init2\", \"init3\"]\n",
    "train_ds = SBCDataset(train_df, cat_dict=data_category, predictors=predictors, response=\"preBoundary\")\n",
    "valid_ds = SBCDataset(valid_df, cat_dict=data_category, predictors=predictors, response=\"preBoundary\")\n",
    "\n",
    "# build the dataloader\n",
    "train_loader = torch.utils.data.DataLoader(\n",
    "    train_ds, batch_size=BATCH_SIZE, shuffle=True\n",
    ")\n",
    "valid_loader = torch.utils.data.DataLoader(\n",
    "    valid_ds, batch_size=TEST_BATCH_SIZE\n",
    ")"
   ]
  },
  {
   "cell_type": "markdown",
   "metadata": {},
   "source": [
    "## 3. Define the Training and Validation Loops"
   ]
  },
  {
   "cell_type": "code",
   "execution_count": 18,
   "metadata": {},
   "outputs": [],
   "source": [
    "class Trainer(object):\n",
    "    def __init__(self, model, criterion, lr_rate, max_epoch):\n",
    "        self.model = model.to(device)\n",
    "        self.criterion = criterion.to(device)\n",
    "        self.optimizer = optim.Adam(self.model.parameters(), lr=lr_rate)\n",
    "        self.max_epoch = max_epoch\n",
    "\n",
    "    def run(self, train_loader, valid_loader):\n",
    "        # calculate the inital loss and accu on validation set\n",
    "        valid_best_loss = self.validate(-1, valid_loader, best_loss=None)\n",
    "        for epoch in range(self.max_epoch):\n",
    "            self.train(epoch, train_loader)\n",
    "            # save the checkpoint with the lowest validation loss\n",
    "            valid_best_loss = self.validate(epoch, valid_loader, valid_best_loss)\n",
    "\n",
    "    def train(self, epoch, loader):            \n",
    "        self.model.train()\n",
    "        running_loss = 0.0\n",
    "        with tqdm(enumerate(loader, 0), mininterval=10) as tepoch:\n",
    "            for i, data in tepoch:\n",
    "                # get the inputs; data is a list of [inputs, labels]\n",
    "                # inputs: tensor, (batch_size, predictors_size)\n",
    "                # labels: tensor, (batch_size, 1)\n",
    "                inputs, labels = data\n",
    "                inputs, labels = inputs.to(device), labels.to(device)\n",
    "                self.optimizer.zero_grad()\n",
    "\n",
    "                outputs = self.model(inputs)\n",
    "                loss = self.criterion(outputs, labels)\n",
    "                loss.backward()\n",
    "                self.optimizer.step()\n",
    "\n",
    "                # gather statistics\n",
    "                running_loss += loss.item()\n",
    "                tepoch.set_postfix(loss=loss.item())\n",
    "\n",
    "        running_loss /= len(loader)\n",
    "        \n",
    "        print('Training | Epoch: {}| Loss: {:.3f}'.format(epoch+1, running_loss))\n",
    "\n",
    "    def validate(self, epoch, loader, best_loss=None):\n",
    "        # switch to the evaluation mode, do not need to calculate the gradient\n",
    "        self.model.eval()\n",
    "        running_loss = 0.0\n",
    "        for i, data in tqdm(enumerate(loader)):\n",
    "            inputs, labels = data\n",
    "            inputs, labels = inputs.to(device), labels.to(device)\n",
    "\n",
    "            # replace the outputs and loss\n",
    "            outputs = self.model(inputs)\n",
    "            loss = self.criterion(outputs, labels)\n",
    "\n",
    "            # gather statistics\n",
    "            running_loss += loss.item()\n",
    "\n",
    "        running_loss /= len(loader)\n",
    "\n",
    "        if best_loss is None or running_loss < best_loss:\n",
    "            # if a better loss appears, save the checkpoint\n",
    "            save_file = 'best_epoch{}_loss{:.2f}.pt'.format(epoch+1, running_loss)\n",
    "            print('Save to file: ', save_file)\n",
    "            torch.save(self.model, save_file)\n",
    "\n",
    "            # overwrite the best_checkpoint.pt file\n",
    "            torch.save(self.model, 'best_checkpoint.pt')\n",
    "\n",
    "            best_loss = running_loss\n",
    "\n",
    "        print('Validation | Epoch: {}| Loss: {:.3f}'.format(epoch+1, running_loss))\n",
    "\n",
    "        return best_loss"
   ]
  },
  {
   "cell_type": "markdown",
   "metadata": {},
   "source": [
    "## 4. Define the Model Structure"
   ]
  },
  {
   "cell_type": "code",
   "execution_count": 19,
   "metadata": {},
   "outputs": [],
   "source": [
    "class MLP(nn.Module):\n",
    "    def __init__(self, input_dim: int):\n",
    "        super().__init__()\n",
    "        self.fc1 = nn.Linear(input_dim, 256)\n",
    "        self.fc2 = nn.Linear(256, 1)\n",
    "\n",
    "        \n",
    "    def forward(self, x):\n",
    "        x = F.relu(self.fc1(x))\n",
    "        x = self.fc2(x)\n",
    "        return x"
   ]
  },
  {
   "cell_type": "markdown",
   "metadata": {},
   "source": [
    "## 5. Training"
   ]
  },
  {
   "cell_type": "code",
   "execution_count": 20,
   "metadata": {},
   "outputs": [],
   "source": [
    "NUM_EPOCH = 20\n",
    "LEARNING_RATE = 0.001\n",
    "input_shape = train_ds.shape\n",
    "model = MLP(input_shape[-1])\n",
    "\n",
    "criterion = nn.MSELoss()\n",
    "trainer = Trainer(model, criterion, LEARNING_RATE, max_epoch=NUM_EPOCH)"
   ]
  },
  {
   "cell_type": "code",
   "execution_count": 21,
   "metadata": {},
   "outputs": [
    {
     "name": "stderr",
     "output_type": "stream",
     "text": [
      "26it [00:00, 59.75it/s]\n"
     ]
    },
    {
     "name": "stdout",
     "output_type": "stream",
     "text": [
      "Save to file:  best_epoch0_loss47.74.pt\n",
      "Validation | Epoch: 0| Loss: 47.743\n"
     ]
    },
    {
     "name": "stderr",
     "output_type": "stream",
     "text": [
      "103it [00:02, 44.05it/s, loss=0.344]\n"
     ]
    },
    {
     "name": "stdout",
     "output_type": "stream",
     "text": [
      "Training | Epoch: 1| Loss: 2.626\n"
     ]
    },
    {
     "name": "stderr",
     "output_type": "stream",
     "text": [
      "26it [00:00, 52.28it/s]\n"
     ]
    },
    {
     "name": "stdout",
     "output_type": "stream",
     "text": [
      "Save to file:  best_epoch1_loss0.35.pt\n",
      "Validation | Epoch: 1| Loss: 0.349\n"
     ]
    },
    {
     "name": "stderr",
     "output_type": "stream",
     "text": [
      "103it [00:02, 44.63it/s, loss=0.26]\n"
     ]
    },
    {
     "name": "stdout",
     "output_type": "stream",
     "text": [
      "Training | Epoch: 2| Loss: 0.285\n"
     ]
    },
    {
     "name": "stderr",
     "output_type": "stream",
     "text": [
      "26it [00:00, 52.26it/s]\n"
     ]
    },
    {
     "name": "stdout",
     "output_type": "stream",
     "text": [
      "Save to file:  best_epoch2_loss0.25.pt\n",
      "Validation | Epoch: 2| Loss: 0.246\n"
     ]
    },
    {
     "name": "stderr",
     "output_type": "stream",
     "text": [
      "103it [00:02, 44.16it/s, loss=0.233]\n"
     ]
    },
    {
     "name": "stdout",
     "output_type": "stream",
     "text": [
      "Training | Epoch: 3| Loss: 0.235\n"
     ]
    },
    {
     "name": "stderr",
     "output_type": "stream",
     "text": [
      "26it [00:00, 58.12it/s]\n"
     ]
    },
    {
     "name": "stdout",
     "output_type": "stream",
     "text": [
      "Save to file:  best_epoch3_loss0.22.pt\n",
      "Validation | Epoch: 3| Loss: 0.221\n"
     ]
    },
    {
     "name": "stderr",
     "output_type": "stream",
     "text": [
      "103it [00:02, 43.18it/s, loss=0.214]\n"
     ]
    },
    {
     "name": "stdout",
     "output_type": "stream",
     "text": [
      "Training | Epoch: 4| Loss: 0.217\n"
     ]
    },
    {
     "name": "stderr",
     "output_type": "stream",
     "text": [
      "26it [00:00, 49.60it/s]\n"
     ]
    },
    {
     "name": "stdout",
     "output_type": "stream",
     "text": [
      "Save to file:  best_epoch4_loss0.21.pt\n",
      "Validation | Epoch: 4| Loss: 0.210\n"
     ]
    },
    {
     "name": "stderr",
     "output_type": "stream",
     "text": [
      "103it [00:02, 44.53it/s, loss=0.212]\n"
     ]
    },
    {
     "name": "stdout",
     "output_type": "stream",
     "text": [
      "Training | Epoch: 5| Loss: 0.208\n"
     ]
    },
    {
     "name": "stderr",
     "output_type": "stream",
     "text": [
      "26it [00:00, 49.65it/s]\n"
     ]
    },
    {
     "name": "stdout",
     "output_type": "stream",
     "text": [
      "Save to file:  best_epoch5_loss0.20.pt\n",
      "Validation | Epoch: 5| Loss: 0.203\n"
     ]
    },
    {
     "name": "stderr",
     "output_type": "stream",
     "text": [
      "103it [00:02, 44.06it/s, loss=0.197]\n"
     ]
    },
    {
     "name": "stdout",
     "output_type": "stream",
     "text": [
      "Training | Epoch: 6| Loss: 0.203\n"
     ]
    },
    {
     "name": "stderr",
     "output_type": "stream",
     "text": [
      "26it [00:00, 45.54it/s]\n"
     ]
    },
    {
     "name": "stdout",
     "output_type": "stream",
     "text": [
      "Save to file:  best_epoch6_loss0.20.pt\n",
      "Validation | Epoch: 6| Loss: 0.200\n"
     ]
    },
    {
     "name": "stderr",
     "output_type": "stream",
     "text": [
      "103it [00:02, 43.43it/s, loss=0.189]\n"
     ]
    },
    {
     "name": "stdout",
     "output_type": "stream",
     "text": [
      "Training | Epoch: 7| Loss: 0.200\n"
     ]
    },
    {
     "name": "stderr",
     "output_type": "stream",
     "text": [
      "26it [00:00, 59.69it/s]\n"
     ]
    },
    {
     "name": "stdout",
     "output_type": "stream",
     "text": [
      "Save to file:  best_epoch7_loss0.20.pt\n",
      "Validation | Epoch: 7| Loss: 0.198\n"
     ]
    },
    {
     "name": "stderr",
     "output_type": "stream",
     "text": [
      "103it [00:02, 42.42it/s, loss=0.209]\n"
     ]
    },
    {
     "name": "stdout",
     "output_type": "stream",
     "text": [
      "Training | Epoch: 8| Loss: 0.198\n"
     ]
    },
    {
     "name": "stderr",
     "output_type": "stream",
     "text": [
      "26it [00:00, 55.90it/s]\n"
     ]
    },
    {
     "name": "stdout",
     "output_type": "stream",
     "text": [
      "Save to file:  best_epoch8_loss0.19.pt\n",
      "Validation | Epoch: 8| Loss: 0.195\n"
     ]
    },
    {
     "name": "stderr",
     "output_type": "stream",
     "text": [
      "103it [00:02, 44.15it/s, loss=0.208]\n"
     ]
    },
    {
     "name": "stdout",
     "output_type": "stream",
     "text": [
      "Training | Epoch: 9| Loss: 0.195\n"
     ]
    },
    {
     "name": "stderr",
     "output_type": "stream",
     "text": [
      "26it [00:00, 49.20it/s]\n"
     ]
    },
    {
     "name": "stdout",
     "output_type": "stream",
     "text": [
      "Validation | Epoch: 9| Loss: 0.196\n"
     ]
    },
    {
     "name": "stderr",
     "output_type": "stream",
     "text": [
      "103it [00:02, 43.20it/s, loss=0.196]\n"
     ]
    },
    {
     "name": "stdout",
     "output_type": "stream",
     "text": [
      "Training | Epoch: 10| Loss: 0.194\n"
     ]
    },
    {
     "name": "stderr",
     "output_type": "stream",
     "text": [
      "26it [00:00, 48.99it/s]\n"
     ]
    },
    {
     "name": "stdout",
     "output_type": "stream",
     "text": [
      "Save to file:  best_epoch10_loss0.19.pt\n",
      "Validation | Epoch: 10| Loss: 0.193\n"
     ]
    },
    {
     "name": "stderr",
     "output_type": "stream",
     "text": [
      "103it [00:02, 43.49it/s, loss=0.193]\n"
     ]
    },
    {
     "name": "stdout",
     "output_type": "stream",
     "text": [
      "Training | Epoch: 11| Loss: 0.194\n"
     ]
    },
    {
     "name": "stderr",
     "output_type": "stream",
     "text": [
      "26it [00:00, 49.38it/s]\n"
     ]
    },
    {
     "name": "stdout",
     "output_type": "stream",
     "text": [
      "Validation | Epoch: 11| Loss: 0.193\n"
     ]
    },
    {
     "name": "stderr",
     "output_type": "stream",
     "text": [
      "103it [00:02, 43.51it/s, loss=0.19]\n"
     ]
    },
    {
     "name": "stdout",
     "output_type": "stream",
     "text": [
      "Training | Epoch: 12| Loss: 0.192\n"
     ]
    },
    {
     "name": "stderr",
     "output_type": "stream",
     "text": [
      "26it [00:00, 49.20it/s]\n"
     ]
    },
    {
     "name": "stdout",
     "output_type": "stream",
     "text": [
      "Save to file:  best_epoch12_loss0.19.pt\n",
      "Validation | Epoch: 12| Loss: 0.190\n"
     ]
    },
    {
     "name": "stderr",
     "output_type": "stream",
     "text": [
      "103it [00:02, 39.59it/s, loss=0.195]\n"
     ]
    },
    {
     "name": "stdout",
     "output_type": "stream",
     "text": [
      "Training | Epoch: 13| Loss: 0.190\n"
     ]
    },
    {
     "name": "stderr",
     "output_type": "stream",
     "text": [
      "26it [00:00, 46.06it/s]\n"
     ]
    },
    {
     "name": "stdout",
     "output_type": "stream",
     "text": [
      "Validation | Epoch: 13| Loss: 0.191\n"
     ]
    },
    {
     "name": "stderr",
     "output_type": "stream",
     "text": [
      "103it [00:02, 43.57it/s, loss=0.189]\n"
     ]
    },
    {
     "name": "stdout",
     "output_type": "stream",
     "text": [
      "Training | Epoch: 14| Loss: 0.191\n"
     ]
    },
    {
     "name": "stderr",
     "output_type": "stream",
     "text": [
      "26it [00:00, 46.28it/s]\n"
     ]
    },
    {
     "name": "stdout",
     "output_type": "stream",
     "text": [
      "Save to file:  best_epoch14_loss0.19.pt\n",
      "Validation | Epoch: 14| Loss: 0.190\n"
     ]
    },
    {
     "name": "stderr",
     "output_type": "stream",
     "text": [
      "103it [00:02, 41.94it/s, loss=0.191]\n"
     ]
    },
    {
     "name": "stdout",
     "output_type": "stream",
     "text": [
      "Training | Epoch: 15| Loss: 0.191\n"
     ]
    },
    {
     "name": "stderr",
     "output_type": "stream",
     "text": [
      "26it [00:00, 48.38it/s]\n"
     ]
    },
    {
     "name": "stdout",
     "output_type": "stream",
     "text": [
      "Validation | Epoch: 15| Loss: 0.193\n"
     ]
    },
    {
     "name": "stderr",
     "output_type": "stream",
     "text": [
      "103it [00:02, 42.64it/s, loss=0.187]\n"
     ]
    },
    {
     "name": "stdout",
     "output_type": "stream",
     "text": [
      "Training | Epoch: 16| Loss: 0.189\n"
     ]
    },
    {
     "name": "stderr",
     "output_type": "stream",
     "text": [
      "26it [00:00, 52.03it/s]\n"
     ]
    },
    {
     "name": "stdout",
     "output_type": "stream",
     "text": [
      "Save to file:  best_epoch16_loss0.19.pt\n",
      "Validation | Epoch: 16| Loss: 0.188\n"
     ]
    },
    {
     "name": "stderr",
     "output_type": "stream",
     "text": [
      "103it [00:02, 42.91it/s, loss=0.192]\n"
     ]
    },
    {
     "name": "stdout",
     "output_type": "stream",
     "text": [
      "Training | Epoch: 17| Loss: 0.189\n"
     ]
    },
    {
     "name": "stderr",
     "output_type": "stream",
     "text": [
      "26it [00:00, 49.46it/s]\n"
     ]
    },
    {
     "name": "stdout",
     "output_type": "stream",
     "text": [
      "Validation | Epoch: 17| Loss: 0.189\n"
     ]
    },
    {
     "name": "stderr",
     "output_type": "stream",
     "text": [
      "103it [00:02, 44.71it/s, loss=0.192]\n"
     ]
    },
    {
     "name": "stdout",
     "output_type": "stream",
     "text": [
      "Training | Epoch: 18| Loss: 0.189\n"
     ]
    },
    {
     "name": "stderr",
     "output_type": "stream",
     "text": [
      "26it [00:00, 50.28it/s]\n"
     ]
    },
    {
     "name": "stdout",
     "output_type": "stream",
     "text": [
      "Validation | Epoch: 18| Loss: 0.190\n"
     ]
    },
    {
     "name": "stderr",
     "output_type": "stream",
     "text": [
      "103it [00:02, 44.86it/s, loss=0.192]\n"
     ]
    },
    {
     "name": "stdout",
     "output_type": "stream",
     "text": [
      "Training | Epoch: 19| Loss: 0.190\n"
     ]
    },
    {
     "name": "stderr",
     "output_type": "stream",
     "text": [
      "26it [00:00, 49.26it/s]\n"
     ]
    },
    {
     "name": "stdout",
     "output_type": "stream",
     "text": [
      "Save to file:  best_epoch19_loss0.19.pt\n",
      "Validation | Epoch: 19| Loss: 0.188\n"
     ]
    },
    {
     "name": "stderr",
     "output_type": "stream",
     "text": [
      "103it [00:02, 43.58it/s, loss=0.19]\n"
     ]
    },
    {
     "name": "stdout",
     "output_type": "stream",
     "text": [
      "Training | Epoch: 20| Loss: 0.188\n"
     ]
    },
    {
     "name": "stderr",
     "output_type": "stream",
     "text": [
      "26it [00:00, 55.55it/s]"
     ]
    },
    {
     "name": "stdout",
     "output_type": "stream",
     "text": [
      "Validation | Epoch: 20| Loss: 0.198\n"
     ]
    },
    {
     "name": "stderr",
     "output_type": "stream",
     "text": [
      "\n"
     ]
    }
   ],
   "source": [
    "trainer.run(train_loader, valid_loader)"
   ]
  }
 ],
 "metadata": {
  "kernelspec": {
   "display_name": "base",
   "language": "python",
   "name": "python3"
  },
  "language_info": {
   "codemirror_mode": {
    "name": "ipython",
    "version": 3
   },
   "file_extension": ".py",
   "mimetype": "text/x-python",
   "name": "python",
   "nbconvert_exporter": "python",
   "pygments_lexer": "ipython3",
   "version": "3.11.5"
  }
 },
 "nbformat": 4,
 "nbformat_minor": 2
}
